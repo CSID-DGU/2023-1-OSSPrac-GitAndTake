{
 "cells": [
  {
   "cell_type": "code",
   "execution_count": 2,
   "id": "37c8ce18",
   "metadata": {},
   "outputs": [],
   "source": [
    "import numpy as np"
   ]
  },
  {
   "cell_type": "code",
   "execution_count": 5,
   "id": "fedccc75",
   "metadata": {},
   "outputs": [
    {
     "name": "stdout",
     "output_type": "stream",
     "text": [
      "[1 2 3]\n",
      "[[1 2]\n",
      " [3 4]]\n"
     ]
    }
   ],
   "source": [
    "# 새로운 array 생성\n",
    "# 1차원 => 벡터 / 2차원 => 행렬\n",
    "\n",
    "a = np.array([1,2,3]) # 1차원 벡터 생성\n",
    "A = np.array([[1,2], [3,4]]) # 2x2의 2차원 행렬을 생성\n",
    "\n",
    "print(a)\n",
    "print(A)"
   ]
  },
  {
   "cell_type": "code",
   "execution_count": 6,
   "id": "1d2f3bbd",
   "metadata": {},
   "outputs": [
    {
     "name": "stdout",
     "output_type": "stream",
     "text": [
      "[[0. 0. 0. 0.]\n",
      " [0. 0. 0. 0.]\n",
      " [0. 0. 0. 0.]]\n",
      "[[1. 1. 1. 1. 1.]\n",
      " [1. 1. 1. 1. 1.]]\n",
      "[[100 100]\n",
      " [100 100]\n",
      " [100 100]]\n"
     ]
    }
   ],
   "source": [
    "# 특정 값으로 초기화\n",
    "\n",
    "x = np.zeros((3,4)) # 3x4 의 0으로 가득찬 행렬\n",
    "y = np.ones((2,5)) # 2x5의 1로 가득찬 행렬\n",
    "z = np.full((3,2), 100) # 1번째 인자의 shape으로 2번째 인자로 가득찬 행렬\n",
    "\n",
    "print(x)\n",
    "print(y)\n",
    "print(z)"
   ]
  },
  {
   "cell_type": "code",
   "execution_count": 8,
   "id": "c41b5700",
   "metadata": {},
   "outputs": [
    {
     "name": "stdout",
     "output_type": "stream",
     "text": [
      "[0 1 2 3 4 5 6 7 8 9]\n",
      "[0 2 4 6 8]\n"
     ]
    }
   ],
   "source": [
    "# np.arange(시작하는값, 마지막 값[디폴트 = 포함 x], 증가량[디폴트 = 1])\n",
    "x = np.arange(0,10)\n",
    "y = np.arange(0,10,2)\n",
    "\n",
    "print(x)\n",
    "print(y)"
   ]
  },
  {
   "cell_type": "code",
   "execution_count": 10,
   "id": "14f198af",
   "metadata": {},
   "outputs": [
    {
     "name": "stdout",
     "output_type": "stream",
     "text": [
      "[ 0.  5. 10.]\n"
     ]
    }
   ],
   "source": [
    "# 특정 개수로 나뉘는 함수\n",
    "# np.linespace(시작하는값, 마지막 값(디폴트 = 포함0), 전체 개수)\n",
    "x = np.linspace(0,10,3)\n",
    "print(x)"
   ]
  },
  {
   "cell_type": "code",
   "execution_count": 14,
   "id": "1cfc1205",
   "metadata": {
    "scrolled": true
   },
   "outputs": [
    {
     "name": "stdout",
     "output_type": "stream",
     "text": [
      "[[0.31515366 0.0463091  0.29162075]\n",
      " [0.32574118 0.99053922 0.56995636]]\n",
      "[[ 0.25403789  2.21348215 -0.94157205]\n",
      " [-1.30787665 -0.76245594  0.91645889]]\n"
     ]
    }
   ],
   "source": [
    "# random으로 샘플을 생성\n",
    "x = np.random.rand(2,3) # 크기 : 2x3 / 값 : 0에서 1사이\n",
    "y = np.random.randn(2,3) # normal distribution을 따르는 랜던 샘플, 평균:0 분산:1\n",
    "print(x)\n",
    "print(y)"
   ]
  },
  {
   "cell_type": "code",
   "execution_count": 15,
   "id": "49a4ac72",
   "metadata": {},
   "outputs": [
    {
     "name": "stdout",
     "output_type": "stream",
     "text": [
      "2 (2, 3) 6\n",
      "1 (3,) 3\n"
     ]
    }
   ],
   "source": [
    "# np.array 속성 보기\n",
    "Z = np.ones(3)\n",
    "z = np.ones((2,3))\n",
    "\n",
    "print(z.ndim, z.shape, z.size) # 차원, 크기, 자리 개수\n",
    "print(Z.ndim, Z.shape, Z.size)"
   ]
  },
  {
   "cell_type": "code",
   "execution_count": 17,
   "id": "b7b3538f",
   "metadata": {},
   "outputs": [
    {
     "name": "stdout",
     "output_type": "stream",
     "text": [
      "[ 0  1  2  3  4  5  6  7  8  9 10 11]\n",
      "[[ 0  1  2]\n",
      " [ 3  4  5]\n",
      " [ 6  7  8]\n",
      " [ 9 10 11]]\n",
      "[[ 0  1]\n",
      " [ 2  3]\n",
      " [ 4  5]\n",
      " [ 6  7]\n",
      " [ 8  9]\n",
      " [10 11]]\n"
     ]
    }
   ],
   "source": [
    "# reshape\n",
    "a = np.arange(0,12) # 1차원 벡터\n",
    "b = a.reshape(4,3) # a를 4x3으로 reshape\n",
    "c = b.reshape(6,2)\n",
    "\n",
    "print(a)\n",
    "print(b)\n",
    "print(c)"
   ]
  },
  {
   "cell_type": "code",
   "execution_count": 19,
   "id": "94ad697c",
   "metadata": {},
   "outputs": [
    {
     "name": "stdout",
     "output_type": "stream",
     "text": [
      "[[ 0  1  2  3]\n",
      " [ 4  5  6  7]\n",
      " [ 8  9 10 11]]\n",
      "2\n"
     ]
    }
   ],
   "source": [
    "# array의 값을 읽어오는 법\n",
    "a = np.arange(0,12) # 1차원 벡터\n",
    "a = a.reshape(3,4)\n",
    "\n",
    "print(a)\n",
    "print(a[0, 2]) # 0 부터 count"
   ]
  },
  {
   "cell_type": "code",
   "execution_count": 21,
   "id": "bc4243de",
   "metadata": {},
   "outputs": [
    {
     "data": {
      "text/plain": [
       "<matplotlib.collections.PathCollection at 0x1a3cf27a1f0>"
      ]
     },
     "execution_count": 21,
     "metadata": {},
     "output_type": "execute_result"
    },
    {
     "data": {
      "image/png": "[encoded data removed]",
      "text/plain": [
       "<Figure size 432x288 with 1 Axes>"
      ]
     },
     "metadata": {
      "needs_background": "light"
     },
     "output_type": "display_data"
    },
    {
     "data": {
      "image/png": "[encoded data removed]",
      "text/plain": [
       "<Figure size 432x288 with 1 Axes>"
      ]
     },
     "metadata": {
      "needs_background": "light"
     },
     "output_type": "display_data"
    }
   ],
   "source": [
    "import matplotlib.pyplot as plt\n",
    "\n",
    "x = np.linspace(0,10,100)\n",
    "y = 2*x + np.random.randn(100)\n",
    "plt.figure() # 도화지 \n",
    "plt.plot(x,y) # 그냥 선\n",
    "\n",
    "plt.figure()\n",
    "plt.scatter(x,y) # 점을 찍는것"
   ]
  }
 ],
 "metadata": {
  "kernelspec": {
   "display_name": "Python 3 (ipykernel)",
   "language": "python",
   "name": "python3"
  },
  "language_info": {
   "codemirror_mode": {
    "name": "ipython",
    "version": 3
   },
   "file_extension": ".py",
   "mimetype": "text/x-python",
   "name": "python",
   "nbconvert_exporter": "python",
   "pygments_lexer": "ipython3",
   "version": "3.9.15"
  }
 },
 "nbformat": 4,
 "nbformat_minor": 5
}
